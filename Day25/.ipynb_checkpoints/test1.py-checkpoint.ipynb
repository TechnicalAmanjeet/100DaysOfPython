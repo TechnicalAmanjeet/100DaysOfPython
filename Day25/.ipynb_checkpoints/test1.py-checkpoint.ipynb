{
 "cells": [
  {
   "cell_type": "code",
   "execution_count": 4,
   "metadata": {},
   "outputs": [],
   "source": [
    "import pandas as pd # imported pandas module into this program.\n",
    "\n",
    "# read csv_file with the help of pandas.\n",
    "\n",
    "pandas_dataframe = pd.read_csv(\"./weather_data1.csv\") # ✅✅✅reading data from csv file and converting it into pandas dataframe.\n",
    "# print(pandas_dataframe) \n"
   ]
  },
  {
   "cell_type": "code",
   "execution_count": 5,
   "metadata": {},
   "outputs": [
    {
     "name": "stdout",
     "output_type": "stream",
     "text": [
      "\n"
     ]
    }
   ],
   "source": [
    "# convert pandas datafram to others extension like json, excel, xml etc.\n",
    "\n",
    "# 1. convert into excel ❌❌❌\n",
    "# to_excel = pandas_dataframe.to_excel('excel_writer')\n",
    "# print(to_excel)\n",
    "print()\n"
   ]
  },
  {
   "cell_type": "code",
   "execution_count": 6,
   "metadata": {},
   "outputs": [
    {
     "name": "stdout",
     "output_type": "stream",
     "text": [
      "{\"day\":{\"0\":\"Monday\",\"1\":\"Tuesday\",\"2\":\"Wednesday\",\"3\":\"Thursday\",\"4\":\"Friday\",\"5\":\"Saturday\",\"6\":\"Sunday\"},\"temp\":{\"0\":12,\"1\":14,\"2\":15,\"3\":14,\"4\":21,\"5\":22,\"6\":24},\"condition\":{\"0\":\"Sunny\",\"1\":\"Rain\",\"2\":\"Rain\",\"3\":\"Cloudy\",\"4\":\"Sunny\",\"5\":\"Sunny\",\"6\":\"Sunny\"}}\n"
     ]
    }
   ],
   "source": [
    "# 2. convert into json ✅✅✅\n",
    "toJson = pandas_dataframe.to_json()\n",
    "print(toJson)"
   ]
  },
  {
   "cell_type": "code",
   "execution_count": 7,
   "metadata": {},
   "outputs": [],
   "source": [
    "# 3. conver into html table. ✅✅✅\n",
    "toHtml = pandas_dataframe.to_html()\n",
    "# print(toHtml)"
   ]
  },
  {
   "cell_type": "code",
   "execution_count": 8,
   "metadata": {},
   "outputs": [
    {
     "name": "stdout",
     "output_type": "stream",
     "text": [
      "{'day': {0: 'Monday', 1: 'Tuesday', 2: 'Wednesday', 3: 'Thursday', 4: 'Friday', 5: 'Saturday', 6: 'Sunday'}, 'temp': {0: 12, 1: 14, 2: 15, 3: 14, 4: 21, 5: 22, 6: 24}, 'condition': {0: 'Sunny', 1: 'Rain', 2: 'Rain', 3: 'Cloudy', 4: 'Sunny', 5: 'Sunny', 6: 'Sunny'}}\n"
     ]
    }
   ],
   "source": [
    "# 3. to dict ✅✅✅\n",
    "toDict = pandas_dataframe.to_dict()\n",
    "print(toDict)"
   ]
  },
  {
   "cell_type": "code",
   "execution_count": 9,
   "metadata": {},
   "outputs": [],
   "source": [
    "# 4. to sql ❌❌❌\n",
    "# toSql = pandas_dataframe.to_sql(name=\"name\", con=\"cond\")\n",
    "# print(toSql)"
   ]
  },
  {
   "cell_type": "code",
   "execution_count": 10,
   "metadata": {},
   "outputs": [
    {
     "name": "stdout",
     "output_type": "stream",
     "text": [
      "[['Monday' 12 'Sunny']\n",
      " ['Tuesday' 14 'Rain']\n",
      " ['Wednesday' 15 'Rain']\n",
      " ['Thursday' 14 'Cloudy']\n",
      " ['Friday' 21 'Sunny']\n",
      " ['Saturday' 22 'Sunny']\n",
      " ['Sunday' 24 'Sunny']]\n"
     ]
    }
   ],
   "source": [
    "# 5. to numpy\n",
    "toNumpy = pandas_dataframe.to_numpy()\n",
    "print(toNumpy)"
   ]
  },
  {
   "cell_type": "code",
   "execution_count": 12,
   "metadata": {},
   "outputs": [
    {
     "name": "stdout",
     "output_type": "stream",
     "text": [
      "         day  temp condition\n",
      "0     Monday    12     Sunny\n",
      "1    Tuesday    14      Rain\n",
      "2  Wednesday    15      Rain\n",
      "3   Thursday    14    Cloudy\n",
      "4     Friday    21     Sunny\n",
      "5   Saturday    22     Sunny\n",
      "6     Sunday    24     Sunny\n"
     ]
    }
   ],
   "source": [
    "# 6. to string\n",
    "toString = pandas_dataframe.to_string()\n",
    "print(toString)"
   ]
  },
  {
   "cell_type": "code",
   "execution_count": 14,
   "metadata": {},
   "outputs": [
    {
     "name": "stdout",
     "output_type": "stream",
     "text": [
      "<xarray.Dataset>\n",
      "Dimensions:    (index: 7)\n",
      "Coordinates:\n",
      "  * index      (index) int64 0 1 2 3 4 5 6\n",
      "Data variables:\n",
      "    day        (index) object 'Monday' 'Tuesday' ... 'Saturday' 'Sunday'\n",
      "    temp       (index) int64 12 14 15 14 21 22 24\n",
      "    condition  (index) object 'Sunny' 'Rain' 'Rain' ... 'Sunny' 'Sunny' 'Sunny'\n"
     ]
    }
   ],
   "source": [
    "# 7. to xarray\n",
    "toXarray = pandas_dataframe.to_xarray()\n",
    "print(toXarray)"
   ]
  },
  {
   "cell_type": "code",
   "execution_count": null,
   "metadata": {},
   "outputs": [],
   "source": []
  }
 ],
 "metadata": {
  "kernelspec": {
   "display_name": "Python 3",
   "language": "python",
   "name": "python3"
  },
  "language_info": {
   "codemirror_mode": {
    "name": "ipython",
    "version": 3
   },
   "file_extension": ".py",
   "mimetype": "text/x-python",
   "name": "python",
   "nbconvert_exporter": "python",
   "pygments_lexer": "ipython3",
   "version": "3.8.5"
  }
 },
 "nbformat": 4,
 "nbformat_minor": 4
}
